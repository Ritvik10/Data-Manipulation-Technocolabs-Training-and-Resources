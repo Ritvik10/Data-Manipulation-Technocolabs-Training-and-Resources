{
 "cells": [
  {
   "cell_type": "markdown",
   "id": "62118d61",
   "metadata": {
    "papermill": {
     "duration": 0.007612,
     "end_time": "2022-06-23T19:35:59.764838",
     "exception": false,
     "start_time": "2022-06-23T19:35:59.757226",
     "status": "completed"
    },
    "tags": []
   },
   "source": [
    "**This notebook is an exercise in the [Pandas](https://www.kaggle.com/learn/pandas) course.  You can reference the tutorial at [this link](https://www.kaggle.com/residentmario/grouping-and-sorting).**\n",
    "\n",
    "---\n"
   ]
  },
  {
   "cell_type": "markdown",
   "id": "96322d92",
   "metadata": {
    "papermill": {
     "duration": 0.006438,
     "end_time": "2022-06-23T19:35:59.778034",
     "exception": false,
     "start_time": "2022-06-23T19:35:59.771596",
     "status": "completed"
    },
    "tags": []
   },
   "source": [
    "# Introduction\n",
    "\n",
    "In these exercises we'll apply groupwise analysis to our dataset.\n",
    "\n",
    "Run the code cell below to load the data before running the exercises."
   ]
  },
  {
   "cell_type": "code",
   "execution_count": 1,
   "id": "a1d1c81a",
   "metadata": {
    "execution": {
     "iopub.execute_input": "2022-06-23T19:35:59.793698Z",
     "iopub.status.busy": "2022-06-23T19:35:59.793188Z",
     "iopub.status.idle": "2022-06-23T19:36:02.598398Z",
     "shell.execute_reply": "2022-06-23T19:36:02.596496Z"
    },
    "papermill": {
     "duration": 2.817047,
     "end_time": "2022-06-23T19:36:02.601760",
     "exception": false,
     "start_time": "2022-06-23T19:35:59.784713",
     "status": "completed"
    },
    "tags": []
   },
   "outputs": [
    {
     "name": "stdout",
     "output_type": "stream",
     "text": [
      "Setup complete.\n"
     ]
    }
   ],
   "source": [
    "import pandas as pd\n",
    "\n",
    "reviews = pd.read_csv(\"../input/wine-reviews/winemag-data-130k-v2.csv\", index_col=0)\n",
    "#pd.set_option(\"display.max_rows\", 5)\n",
    "\n",
    "from learntools.core import binder; binder.bind(globals())\n",
    "from learntools.pandas.grouping_and_sorting import *\n",
    "print(\"Setup complete.\")"
   ]
  },
  {
   "cell_type": "markdown",
   "id": "e4eb5f09",
   "metadata": {
    "papermill": {
     "duration": 0.006457,
     "end_time": "2022-06-23T19:36:02.615263",
     "exception": false,
     "start_time": "2022-06-23T19:36:02.608806",
     "status": "completed"
    },
    "tags": []
   },
   "source": [
    "# Exercises"
   ]
  },
  {
   "cell_type": "markdown",
   "id": "7a8f1acb",
   "metadata": {
    "papermill": {
     "duration": 0.006474,
     "end_time": "2022-06-23T19:36:02.628517",
     "exception": false,
     "start_time": "2022-06-23T19:36:02.622043",
     "status": "completed"
    },
    "tags": []
   },
   "source": [
    "## 1.\n",
    "Who are the most common wine reviewers in the dataset? Create a `Series` whose index is the `taster_twitter_handle` category from the dataset, and whose values count how many reviews each person wrote."
   ]
  },
  {
   "cell_type": "code",
   "execution_count": 2,
   "id": "dd765f60",
   "metadata": {
    "execution": {
     "iopub.execute_input": "2022-06-23T19:36:02.644200Z",
     "iopub.status.busy": "2022-06-23T19:36:02.643526Z",
     "iopub.status.idle": "2022-06-23T19:36:02.681841Z",
     "shell.execute_reply": "2022-06-23T19:36:02.680887Z"
    },
    "papermill": {
     "duration": 0.048782,
     "end_time": "2022-06-23T19:36:02.684017",
     "exception": false,
     "start_time": "2022-06-23T19:36:02.635235",
     "status": "completed"
    },
    "tags": []
   },
   "outputs": [
    {
     "data": {
      "application/javascript": [
       "parent.postMessage({\"jupyterEvent\": \"custom.exercise_interaction\", \"data\": {\"outcomeType\": 1, \"valueTowardsCompletion\": 0.16666666666666666, \"interactionType\": 1, \"questionType\": 1, \"questionId\": \"1_ReviewsWritten\", \"learnToolsVersion\": \"0.3.4\", \"failureMessage\": \"\", \"exceptionClass\": \"\", \"trace\": \"\"}}, \"*\")"
      ],
      "text/plain": [
       "<IPython.core.display.Javascript object>"
      ]
     },
     "metadata": {},
     "output_type": "display_data"
    },
    {
     "data": {
      "text/markdown": [
       "<span style=\"color:#33cc33\">Correct:</span> \n",
       "\n",
       "\n",
       "```python\n",
       "reviews_written = reviews.groupby('taster_twitter_handle').size()\n",
       "```\n",
       "or\n",
       "```python\n",
       "reviews_written = reviews.groupby('taster_twitter_handle').taster_twitter_handle.count()\n",
       "```\n"
      ],
      "text/plain": [
       "Correct: \n",
       "\n",
       "\n",
       "```python\n",
       "reviews_written = reviews.groupby('taster_twitter_handle').size()\n",
       "```\n",
       "or\n",
       "```python\n",
       "reviews_written = reviews.groupby('taster_twitter_handle').taster_twitter_handle.count()\n",
       "```"
      ]
     },
     "metadata": {},
     "output_type": "display_data"
    }
   ],
   "source": [
    "# Your code here\n",
    "reviews_written = reviews.groupby('taster_twitter_handle').taster_twitter_handle.count()\n",
    "\n",
    "\n",
    "# Check your answer\n",
    "q1.check()"
   ]
  },
  {
   "cell_type": "code",
   "execution_count": 3,
   "id": "a6a6992a",
   "metadata": {
    "execution": {
     "iopub.execute_input": "2022-06-23T19:36:02.700487Z",
     "iopub.status.busy": "2022-06-23T19:36:02.700023Z",
     "iopub.status.idle": "2022-06-23T19:36:02.708777Z",
     "shell.execute_reply": "2022-06-23T19:36:02.707267Z"
    },
    "papermill": {
     "duration": 0.020221,
     "end_time": "2022-06-23T19:36:02.711287",
     "exception": false,
     "start_time": "2022-06-23T19:36:02.691066",
     "status": "completed"
    },
    "tags": []
   },
   "outputs": [
    {
     "data": {
      "application/javascript": [
       "parent.postMessage({\"jupyterEvent\": \"custom.exercise_interaction\", \"data\": {\"interactionType\": 3, \"questionType\": 1, \"questionId\": \"1_ReviewsWritten\", \"learnToolsVersion\": \"0.3.4\", \"valueTowardsCompletion\": 0.0, \"failureMessage\": \"\", \"exceptionClass\": \"\", \"trace\": \"\", \"outcomeType\": 4}}, \"*\")"
      ],
      "text/plain": [
       "<IPython.core.display.Javascript object>"
      ]
     },
     "metadata": {},
     "output_type": "display_data"
    },
    {
     "data": {
      "text/markdown": [
       "<span style=\"color:#33cc99\">Solution:</span> \n",
       "```python\n",
       "reviews_written = reviews.groupby('taster_twitter_handle').size()\n",
       "```\n",
       "or\n",
       "```python\n",
       "reviews_written = reviews.groupby('taster_twitter_handle').taster_twitter_handle.count()\n",
       "```\n"
      ],
      "text/plain": [
       "Solution: \n",
       "```python\n",
       "reviews_written = reviews.groupby('taster_twitter_handle').size()\n",
       "```\n",
       "or\n",
       "```python\n",
       "reviews_written = reviews.groupby('taster_twitter_handle').taster_twitter_handle.count()\n",
       "```"
      ]
     },
     "metadata": {},
     "output_type": "display_data"
    }
   ],
   "source": [
    "#q1.hint()\n",
    "q1.solution()"
   ]
  },
  {
   "cell_type": "markdown",
   "id": "1882a7be",
   "metadata": {
    "papermill": {
     "duration": 0.007067,
     "end_time": "2022-06-23T19:36:02.725711",
     "exception": false,
     "start_time": "2022-06-23T19:36:02.718644",
     "status": "completed"
    },
    "tags": []
   },
   "source": [
    "## 2.\n",
    "What is the best wine I can buy for a given amount of money? Create a `Series` whose index is wine prices and whose values is the maximum number of points a wine costing that much was given in a review. Sort the values by price, ascending (so that `4.0` dollars is at the top and `3300.0` dollars is at the bottom)."
   ]
  },
  {
   "cell_type": "code",
   "execution_count": 4,
   "id": "33e858e3",
   "metadata": {
    "execution": {
     "iopub.execute_input": "2022-06-23T19:36:02.743162Z",
     "iopub.status.busy": "2022-06-23T19:36:02.742381Z",
     "iopub.status.idle": "2022-06-23T19:36:02.756031Z",
     "shell.execute_reply": "2022-06-23T19:36:02.754957Z"
    },
    "papermill": {
     "duration": 0.025091,
     "end_time": "2022-06-23T19:36:02.758371",
     "exception": false,
     "start_time": "2022-06-23T19:36:02.733280",
     "status": "completed"
    },
    "tags": []
   },
   "outputs": [
    {
     "data": {
      "application/javascript": [
       "parent.postMessage({\"jupyterEvent\": \"custom.exercise_interaction\", \"data\": {\"outcomeType\": 1, \"valueTowardsCompletion\": 0.16666666666666666, \"interactionType\": 1, \"questionType\": 1, \"questionId\": \"2_BestRatingPerPrice\", \"learnToolsVersion\": \"0.3.4\", \"failureMessage\": \"\", \"exceptionClass\": \"\", \"trace\": \"\"}}, \"*\")"
      ],
      "text/plain": [
       "<IPython.core.display.Javascript object>"
      ]
     },
     "metadata": {},
     "output_type": "display_data"
    },
    {
     "data": {
      "text/markdown": [
       "<span style=\"color:#33cc33\">Correct</span>"
      ],
      "text/plain": [
       "Correct"
      ]
     },
     "metadata": {},
     "output_type": "display_data"
    }
   ],
   "source": [
    "best_rating_per_price = reviews.groupby('price')['points'].max().sort_index()\n",
    "\n",
    "\n",
    "# Check your answer\n",
    "q2.check()"
   ]
  },
  {
   "cell_type": "code",
   "execution_count": 5,
   "id": "f4f6630d",
   "metadata": {
    "execution": {
     "iopub.execute_input": "2022-06-23T19:36:02.777157Z",
     "iopub.status.busy": "2022-06-23T19:36:02.776350Z",
     "iopub.status.idle": "2022-06-23T19:36:02.784607Z",
     "shell.execute_reply": "2022-06-23T19:36:02.783575Z"
    },
    "papermill": {
     "duration": 0.019784,
     "end_time": "2022-06-23T19:36:02.786787",
     "exception": false,
     "start_time": "2022-06-23T19:36:02.767003",
     "status": "completed"
    },
    "tags": []
   },
   "outputs": [
    {
     "data": {
      "application/javascript": [
       "parent.postMessage({\"jupyterEvent\": \"custom.exercise_interaction\", \"data\": {\"interactionType\": 3, \"questionType\": 1, \"questionId\": \"2_BestRatingPerPrice\", \"learnToolsVersion\": \"0.3.4\", \"valueTowardsCompletion\": 0.0, \"failureMessage\": \"\", \"exceptionClass\": \"\", \"trace\": \"\", \"outcomeType\": 4}}, \"*\")"
      ],
      "text/plain": [
       "<IPython.core.display.Javascript object>"
      ]
     },
     "metadata": {},
     "output_type": "display_data"
    },
    {
     "data": {
      "text/markdown": [
       "<span style=\"color:#33cc99\">Solution:</span> \n",
       "```python\n",
       "best_rating_per_price = reviews.groupby('price')['points'].max().sort_index()\n",
       "```"
      ],
      "text/plain": [
       "Solution: \n",
       "```python\n",
       "best_rating_per_price = reviews.groupby('price')['points'].max().sort_index()\n",
       "```"
      ]
     },
     "metadata": {},
     "output_type": "display_data"
    }
   ],
   "source": [
    "#q2.hint()\n",
    "q2.solution()"
   ]
  },
  {
   "cell_type": "markdown",
   "id": "761f6901",
   "metadata": {
    "papermill": {
     "duration": 0.007902,
     "end_time": "2022-06-23T19:36:02.802576",
     "exception": false,
     "start_time": "2022-06-23T19:36:02.794674",
     "status": "completed"
    },
    "tags": []
   },
   "source": [
    "## 3.\n",
    "What are the minimum and maximum prices for each `variety` of wine? Create a `DataFrame` whose index is the `variety` category from the dataset and whose values are the `min` and `max` values thereof."
   ]
  },
  {
   "cell_type": "code",
   "execution_count": 6,
   "id": "3768bf36",
   "metadata": {
    "execution": {
     "iopub.execute_input": "2022-06-23T19:36:02.821269Z",
     "iopub.status.busy": "2022-06-23T19:36:02.820585Z",
     "iopub.status.idle": "2022-06-23T19:36:02.850461Z",
     "shell.execute_reply": "2022-06-23T19:36:02.849521Z"
    },
    "papermill": {
     "duration": 0.041928,
     "end_time": "2022-06-23T19:36:02.852701",
     "exception": false,
     "start_time": "2022-06-23T19:36:02.810773",
     "status": "completed"
    },
    "tags": []
   },
   "outputs": [
    {
     "data": {
      "application/javascript": [
       "parent.postMessage({\"jupyterEvent\": \"custom.exercise_interaction\", \"data\": {\"outcomeType\": 1, \"valueTowardsCompletion\": 0.16666666666666666, \"interactionType\": 1, \"questionType\": 1, \"questionId\": \"3_PriceExtremes\", \"learnToolsVersion\": \"0.3.4\", \"failureMessage\": \"\", \"exceptionClass\": \"\", \"trace\": \"\"}}, \"*\")"
      ],
      "text/plain": [
       "<IPython.core.display.Javascript object>"
      ]
     },
     "metadata": {},
     "output_type": "display_data"
    },
    {
     "data": {
      "text/markdown": [
       "<span style=\"color:#33cc33\">Correct</span>"
      ],
      "text/plain": [
       "Correct"
      ]
     },
     "metadata": {},
     "output_type": "display_data"
    }
   ],
   "source": [
    "price_extremes = reviews.groupby('variety').price.agg([min, max])\n",
    "\n",
    "# Check your answer\n",
    "q3.check()"
   ]
  },
  {
   "cell_type": "code",
   "execution_count": 7,
   "id": "5b3ae9b4",
   "metadata": {
    "execution": {
     "iopub.execute_input": "2022-06-23T19:36:02.871708Z",
     "iopub.status.busy": "2022-06-23T19:36:02.871034Z",
     "iopub.status.idle": "2022-06-23T19:36:02.878836Z",
     "shell.execute_reply": "2022-06-23T19:36:02.877927Z"
    },
    "papermill": {
     "duration": 0.020132,
     "end_time": "2022-06-23T19:36:02.881144",
     "exception": false,
     "start_time": "2022-06-23T19:36:02.861012",
     "status": "completed"
    },
    "tags": []
   },
   "outputs": [
    {
     "data": {
      "application/javascript": [
       "parent.postMessage({\"jupyterEvent\": \"custom.exercise_interaction\", \"data\": {\"interactionType\": 3, \"questionType\": 1, \"questionId\": \"3_PriceExtremes\", \"learnToolsVersion\": \"0.3.4\", \"valueTowardsCompletion\": 0.0, \"failureMessage\": \"\", \"exceptionClass\": \"\", \"trace\": \"\", \"outcomeType\": 4}}, \"*\")"
      ],
      "text/plain": [
       "<IPython.core.display.Javascript object>"
      ]
     },
     "metadata": {},
     "output_type": "display_data"
    },
    {
     "data": {
      "text/markdown": [
       "<span style=\"color:#33cc99\">Solution:</span> \n",
       "```python\n",
       "price_extremes = reviews.groupby('variety').price.agg([min, max])\n",
       "```"
      ],
      "text/plain": [
       "Solution: \n",
       "```python\n",
       "price_extremes = reviews.groupby('variety').price.agg([min, max])\n",
       "```"
      ]
     },
     "metadata": {},
     "output_type": "display_data"
    }
   ],
   "source": [
    "#q3.hint()\n",
    "q3.solution()"
   ]
  },
  {
   "cell_type": "markdown",
   "id": "3cde279f",
   "metadata": {
    "papermill": {
     "duration": 0.008318,
     "end_time": "2022-06-23T19:36:02.898053",
     "exception": false,
     "start_time": "2022-06-23T19:36:02.889735",
     "status": "completed"
    },
    "tags": []
   },
   "source": [
    "## 4.\n",
    "What are the most expensive wine varieties? Create a variable `sorted_varieties` containing a copy of the dataframe from the previous question where varieties are sorted in descending order based on minimum price, then on maximum price (to break ties)."
   ]
  },
  {
   "cell_type": "code",
   "execution_count": 8,
   "id": "44b4a4ed",
   "metadata": {
    "execution": {
     "iopub.execute_input": "2022-06-23T19:36:02.918514Z",
     "iopub.status.busy": "2022-06-23T19:36:02.917655Z",
     "iopub.status.idle": "2022-06-23T19:36:02.929604Z",
     "shell.execute_reply": "2022-06-23T19:36:02.928628Z"
    },
    "papermill": {
     "duration": 0.025061,
     "end_time": "2022-06-23T19:36:02.931973",
     "exception": false,
     "start_time": "2022-06-23T19:36:02.906912",
     "status": "completed"
    },
    "tags": []
   },
   "outputs": [
    {
     "data": {
      "application/javascript": [
       "parent.postMessage({\"jupyterEvent\": \"custom.exercise_interaction\", \"data\": {\"outcomeType\": 1, \"valueTowardsCompletion\": 0.16666666666666666, \"interactionType\": 1, \"questionType\": 1, \"questionId\": \"4_SortedVarieties\", \"learnToolsVersion\": \"0.3.4\", \"failureMessage\": \"\", \"exceptionClass\": \"\", \"trace\": \"\"}}, \"*\")"
      ],
      "text/plain": [
       "<IPython.core.display.Javascript object>"
      ]
     },
     "metadata": {},
     "output_type": "display_data"
    },
    {
     "data": {
      "text/markdown": [
       "<span style=\"color:#33cc33\">Correct</span>"
      ],
      "text/plain": [
       "Correct"
      ]
     },
     "metadata": {},
     "output_type": "display_data"
    }
   ],
   "source": [
    "sorted_varieties = price_extremes.sort_values(by=['min', 'max'], ascending=False)\n",
    "\n",
    "# Check your answer\n",
    "q4.check()"
   ]
  },
  {
   "cell_type": "code",
   "execution_count": 9,
   "id": "2bb8d97c",
   "metadata": {
    "execution": {
     "iopub.execute_input": "2022-06-23T19:36:02.952576Z",
     "iopub.status.busy": "2022-06-23T19:36:02.951912Z",
     "iopub.status.idle": "2022-06-23T19:36:02.960300Z",
     "shell.execute_reply": "2022-06-23T19:36:02.959213Z"
    },
    "papermill": {
     "duration": 0.021888,
     "end_time": "2022-06-23T19:36:02.962630",
     "exception": false,
     "start_time": "2022-06-23T19:36:02.940742",
     "status": "completed"
    },
    "tags": []
   },
   "outputs": [
    {
     "data": {
      "application/javascript": [
       "parent.postMessage({\"jupyterEvent\": \"custom.exercise_interaction\", \"data\": {\"interactionType\": 3, \"questionType\": 1, \"questionId\": \"4_SortedVarieties\", \"learnToolsVersion\": \"0.3.4\", \"valueTowardsCompletion\": 0.0, \"failureMessage\": \"\", \"exceptionClass\": \"\", \"trace\": \"\", \"outcomeType\": 4}}, \"*\")"
      ],
      "text/plain": [
       "<IPython.core.display.Javascript object>"
      ]
     },
     "metadata": {},
     "output_type": "display_data"
    },
    {
     "data": {
      "text/markdown": [
       "<span style=\"color:#33cc99\">Solution:</span> \n",
       "```python\n",
       "sorted_varieties = price_extremes.sort_values(by=['min', 'max'], ascending=False)\n",
       "```"
      ],
      "text/plain": [
       "Solution: \n",
       "```python\n",
       "sorted_varieties = price_extremes.sort_values(by=['min', 'max'], ascending=False)\n",
       "```"
      ]
     },
     "metadata": {},
     "output_type": "display_data"
    }
   ],
   "source": [
    "#q4.hint()\n",
    "q4.solution()"
   ]
  },
  {
   "cell_type": "markdown",
   "id": "97e6e79c",
   "metadata": {
    "papermill": {
     "duration": 0.008809,
     "end_time": "2022-06-23T19:36:02.981157",
     "exception": false,
     "start_time": "2022-06-23T19:36:02.972348",
     "status": "completed"
    },
    "tags": []
   },
   "source": [
    "## 5.\n",
    "Create a `Series` whose index is reviewers and whose values is the average review score given out by that reviewer. Hint: you will need the `taster_name` and `points` columns."
   ]
  },
  {
   "cell_type": "code",
   "execution_count": 10,
   "id": "3d7602f7",
   "metadata": {
    "execution": {
     "iopub.execute_input": "2022-06-23T19:36:03.001340Z",
     "iopub.status.busy": "2022-06-23T19:36:03.000883Z",
     "iopub.status.idle": "2022-06-23T19:36:03.026180Z",
     "shell.execute_reply": "2022-06-23T19:36:03.025151Z"
    },
    "papermill": {
     "duration": 0.038349,
     "end_time": "2022-06-23T19:36:03.028431",
     "exception": false,
     "start_time": "2022-06-23T19:36:02.990082",
     "status": "completed"
    },
    "tags": []
   },
   "outputs": [
    {
     "data": {
      "application/javascript": [
       "parent.postMessage({\"jupyterEvent\": \"custom.exercise_interaction\", \"data\": {\"outcomeType\": 1, \"valueTowardsCompletion\": 0.16666666666666666, \"interactionType\": 1, \"questionType\": 1, \"questionId\": \"5_ReviewerMeanRatings\", \"learnToolsVersion\": \"0.3.4\", \"failureMessage\": \"\", \"exceptionClass\": \"\", \"trace\": \"\"}}, \"*\")"
      ],
      "text/plain": [
       "<IPython.core.display.Javascript object>"
      ]
     },
     "metadata": {},
     "output_type": "display_data"
    },
    {
     "data": {
      "text/markdown": [
       "<span style=\"color:#33cc33\">Correct</span>"
      ],
      "text/plain": [
       "Correct"
      ]
     },
     "metadata": {},
     "output_type": "display_data"
    }
   ],
   "source": [
    "reviewer_mean_ratings = reviews.groupby('taster_name').points.mean()\n",
    "\n",
    "# Check your answer\n",
    "q5.check()"
   ]
  },
  {
   "cell_type": "code",
   "execution_count": 11,
   "id": "35ca2041",
   "metadata": {
    "execution": {
     "iopub.execute_input": "2022-06-23T19:36:03.049247Z",
     "iopub.status.busy": "2022-06-23T19:36:03.048659Z",
     "iopub.status.idle": "2022-06-23T19:36:03.056982Z",
     "shell.execute_reply": "2022-06-23T19:36:03.056123Z"
    },
    "papermill": {
     "duration": 0.021402,
     "end_time": "2022-06-23T19:36:03.059196",
     "exception": false,
     "start_time": "2022-06-23T19:36:03.037794",
     "status": "completed"
    },
    "tags": []
   },
   "outputs": [
    {
     "data": {
      "application/javascript": [
       "parent.postMessage({\"jupyterEvent\": \"custom.exercise_interaction\", \"data\": {\"interactionType\": 3, \"questionType\": 1, \"questionId\": \"5_ReviewerMeanRatings\", \"learnToolsVersion\": \"0.3.4\", \"valueTowardsCompletion\": 0.0, \"failureMessage\": \"\", \"exceptionClass\": \"\", \"trace\": \"\", \"outcomeType\": 4}}, \"*\")"
      ],
      "text/plain": [
       "<IPython.core.display.Javascript object>"
      ]
     },
     "metadata": {},
     "output_type": "display_data"
    },
    {
     "data": {
      "text/markdown": [
       "<span style=\"color:#33cc99\">Solution:</span> \n",
       "```python\n",
       "reviewer_mean_ratings = reviews.groupby('taster_name').points.mean()\n",
       "```"
      ],
      "text/plain": [
       "Solution: \n",
       "```python\n",
       "reviewer_mean_ratings = reviews.groupby('taster_name').points.mean()\n",
       "```"
      ]
     },
     "metadata": {},
     "output_type": "display_data"
    }
   ],
   "source": [
    "#q5.hint()\n",
    "q5.solution()"
   ]
  },
  {
   "cell_type": "markdown",
   "id": "058dea4b",
   "metadata": {
    "papermill": {
     "duration": 0.009926,
     "end_time": "2022-06-23T19:36:03.079115",
     "exception": false,
     "start_time": "2022-06-23T19:36:03.069189",
     "status": "completed"
    },
    "tags": []
   },
   "source": [
    "Are there significant differences in the average scores assigned by the various reviewers? Run the cell below to use the `describe()` method to see a summary of the range of values."
   ]
  },
  {
   "cell_type": "code",
   "execution_count": 12,
   "id": "7b26d402",
   "metadata": {
    "execution": {
     "iopub.execute_input": "2022-06-23T19:36:03.101374Z",
     "iopub.status.busy": "2022-06-23T19:36:03.100570Z",
     "iopub.status.idle": "2022-06-23T19:36:03.116199Z",
     "shell.execute_reply": "2022-06-23T19:36:03.114835Z"
    },
    "papermill": {
     "duration": 0.029495,
     "end_time": "2022-06-23T19:36:03.118761",
     "exception": false,
     "start_time": "2022-06-23T19:36:03.089266",
     "status": "completed"
    },
    "tags": []
   },
   "outputs": [
    {
     "data": {
      "text/plain": [
       "count    19.000000\n",
       "mean     88.233026\n",
       "std       1.243610\n",
       "min      85.855422\n",
       "25%      87.323501\n",
       "50%      88.536235\n",
       "75%      88.975256\n",
       "max      90.562551\n",
       "Name: points, dtype: float64"
      ]
     },
     "execution_count": 12,
     "metadata": {},
     "output_type": "execute_result"
    }
   ],
   "source": [
    "reviewer_mean_ratings.describe()"
   ]
  },
  {
   "cell_type": "markdown",
   "id": "7a39210d",
   "metadata": {
    "papermill": {
     "duration": 0.009414,
     "end_time": "2022-06-23T19:36:03.138633",
     "exception": false,
     "start_time": "2022-06-23T19:36:03.129219",
     "status": "completed"
    },
    "tags": []
   },
   "source": [
    "## 6.\n",
    "What combination of countries and varieties are most common? Create a `Series` whose index is a `MultiIndex`of `{country, variety}` pairs. For example, a pinot noir produced in the US should map to `{\"US\", \"Pinot Noir\"}`. Sort the values in the `Series` in descending order based on wine count."
   ]
  },
  {
   "cell_type": "code",
   "execution_count": 13,
   "id": "568b06d5",
   "metadata": {
    "execution": {
     "iopub.execute_input": "2022-06-23T19:36:03.161054Z",
     "iopub.status.busy": "2022-06-23T19:36:03.160536Z",
     "iopub.status.idle": "2022-06-23T19:36:03.206874Z",
     "shell.execute_reply": "2022-06-23T19:36:03.205546Z"
    },
    "papermill": {
     "duration": 0.060904,
     "end_time": "2022-06-23T19:36:03.209272",
     "exception": false,
     "start_time": "2022-06-23T19:36:03.148368",
     "status": "completed"
    },
    "tags": []
   },
   "outputs": [
    {
     "data": {
      "application/javascript": [
       "parent.postMessage({\"jupyterEvent\": \"custom.exercise_interaction\", \"data\": {\"outcomeType\": 1, \"valueTowardsCompletion\": 0.16666666666666666, \"interactionType\": 1, \"questionType\": 1, \"questionId\": \"6_GroupbyCountryVariety\", \"learnToolsVersion\": \"0.3.4\", \"failureMessage\": \"\", \"exceptionClass\": \"\", \"trace\": \"\"}}, \"*\")"
      ],
      "text/plain": [
       "<IPython.core.display.Javascript object>"
      ]
     },
     "metadata": {},
     "output_type": "display_data"
    },
    {
     "data": {
      "text/markdown": [
       "<span style=\"color:#33cc33\">Correct</span>"
      ],
      "text/plain": [
       "Correct"
      ]
     },
     "metadata": {},
     "output_type": "display_data"
    }
   ],
   "source": [
    "country_variety_counts = reviews.groupby(['country', 'variety']).size().sort_values(ascending=False)\n",
    "\n",
    "# Check your answer\n",
    "q6.check()"
   ]
  },
  {
   "cell_type": "code",
   "execution_count": 14,
   "id": "dbadf65e",
   "metadata": {
    "execution": {
     "iopub.execute_input": "2022-06-23T19:36:03.231475Z",
     "iopub.status.busy": "2022-06-23T19:36:03.230577Z",
     "iopub.status.idle": "2022-06-23T19:36:03.241290Z",
     "shell.execute_reply": "2022-06-23T19:36:03.240065Z"
    },
    "papermill": {
     "duration": 0.024264,
     "end_time": "2022-06-23T19:36:03.243635",
     "exception": false,
     "start_time": "2022-06-23T19:36:03.219371",
     "status": "completed"
    },
    "tags": []
   },
   "outputs": [
    {
     "data": {
      "application/javascript": [
       "parent.postMessage({\"jupyterEvent\": \"custom.exercise_interaction\", \"data\": {\"interactionType\": 3, \"questionType\": 1, \"questionId\": \"6_GroupbyCountryVariety\", \"learnToolsVersion\": \"0.3.4\", \"valueTowardsCompletion\": 0.0, \"failureMessage\": \"\", \"exceptionClass\": \"\", \"trace\": \"\", \"outcomeType\": 4}}, \"*\")"
      ],
      "text/plain": [
       "<IPython.core.display.Javascript object>"
      ]
     },
     "metadata": {},
     "output_type": "display_data"
    },
    {
     "data": {
      "text/markdown": [
       "<span style=\"color:#33cc99\">Solution:</span> \n",
       "```python\n",
       "country_variety_counts = reviews.groupby(['country', 'variety']).size().sort_values(ascending=False)\n",
       "```"
      ],
      "text/plain": [
       "Solution: \n",
       "```python\n",
       "country_variety_counts = reviews.groupby(['country', 'variety']).size().sort_values(ascending=False)\n",
       "```"
      ]
     },
     "metadata": {},
     "output_type": "display_data"
    }
   ],
   "source": [
    "#q6.hint()\n",
    "q6.solution()"
   ]
  },
  {
   "cell_type": "markdown",
   "id": "5967f404",
   "metadata": {
    "papermill": {
     "duration": 0.010172,
     "end_time": "2022-06-23T19:36:03.264200",
     "exception": false,
     "start_time": "2022-06-23T19:36:03.254028",
     "status": "completed"
    },
    "tags": []
   },
   "source": [
    "# Keep going\n",
    "\n",
    "Move on to the [**data types and missing data**](https://www.kaggle.com/residentmario/data-types-and-missing-values)."
   ]
  },
  {
   "cell_type": "markdown",
   "id": "8aa6d4d1",
   "metadata": {
    "papermill": {
     "duration": 0.010431,
     "end_time": "2022-06-23T19:36:03.285195",
     "exception": false,
     "start_time": "2022-06-23T19:36:03.274764",
     "status": "completed"
    },
    "tags": []
   },
   "source": [
    "---\n",
    "\n",
    "\n",
    "\n",
    "\n",
    "*Have questions or comments? Visit the [course discussion forum](https://www.kaggle.com/learn/pandas/discussion) to chat with other learners.*"
   ]
  }
 ],
 "metadata": {
  "kernelspec": {
   "display_name": "Python 3",
   "language": "python",
   "name": "python3"
  },
  "language_info": {
   "codemirror_mode": {
    "name": "ipython",
    "version": 3
   },
   "file_extension": ".py",
   "mimetype": "text/x-python",
   "name": "python",
   "nbconvert_exporter": "python",
   "pygments_lexer": "ipython3",
   "version": "3.7.12"
  },
  "papermill": {
   "default_parameters": {},
   "duration": 14.023023,
   "end_time": "2022-06-23T19:36:04.120043",
   "environment_variables": {},
   "exception": null,
   "input_path": "__notebook__.ipynb",
   "output_path": "__notebook__.ipynb",
   "parameters": {},
   "start_time": "2022-06-23T19:35:50.097020",
   "version": "2.3.4"
  }
 },
 "nbformat": 4,
 "nbformat_minor": 5
}
