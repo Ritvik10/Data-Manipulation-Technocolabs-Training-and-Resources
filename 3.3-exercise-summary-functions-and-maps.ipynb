{
 "cells": [
  {
   "cell_type": "markdown",
   "id": "c75b88ab",
   "metadata": {
    "papermill": {
     "duration": 0.008049,
     "end_time": "2022-06-23T18:59:33.777639",
     "exception": false,
     "start_time": "2022-06-23T18:59:33.769590",
     "status": "completed"
    },
    "tags": []
   },
   "source": [
    "**This notebook is an exercise in the [Pandas](https://www.kaggle.com/learn/pandas) course.  You can reference the tutorial at [this link](https://www.kaggle.com/residentmario/summary-functions-and-maps).**\n",
    "\n",
    "---\n"
   ]
  },
  {
   "cell_type": "markdown",
   "id": "0a3b5312",
   "metadata": {
    "papermill": {
     "duration": 0.006835,
     "end_time": "2022-06-23T18:59:33.791897",
     "exception": false,
     "start_time": "2022-06-23T18:59:33.785062",
     "status": "completed"
    },
    "tags": []
   },
   "source": [
    "# Introduction\n",
    "\n",
    "Now you are ready to get a deeper understanding of your data.\n",
    "\n",
    "Run the following cell to load your data and some utility functions (including code to check your answers)."
   ]
  },
  {
   "cell_type": "code",
   "execution_count": 1,
   "id": "3d318300",
   "metadata": {
    "execution": {
     "iopub.execute_input": "2022-06-23T18:59:33.808108Z",
     "iopub.status.busy": "2022-06-23T18:59:33.807659Z",
     "iopub.status.idle": "2022-06-23T18:59:41.762281Z",
     "shell.execute_reply": "2022-06-23T18:59:41.760392Z"
    },
    "papermill": {
     "duration": 7.966194,
     "end_time": "2022-06-23T18:59:41.765271",
     "exception": false,
     "start_time": "2022-06-23T18:59:33.799077",
     "status": "completed"
    },
    "tags": []
   },
   "outputs": [
    {
     "name": "stdout",
     "output_type": "stream",
     "text": [
      "Setup complete.\n"
     ]
    },
    {
     "data": {
      "text/html": [
       "<div>\n",
       "<style scoped>\n",
       "    .dataframe tbody tr th:only-of-type {\n",
       "        vertical-align: middle;\n",
       "    }\n",
       "\n",
       "    .dataframe tbody tr th {\n",
       "        vertical-align: top;\n",
       "    }\n",
       "\n",
       "    .dataframe thead th {\n",
       "        text-align: right;\n",
       "    }\n",
       "</style>\n",
       "<table border=\"1\" class=\"dataframe\">\n",
       "  <thead>\n",
       "    <tr style=\"text-align: right;\">\n",
       "      <th></th>\n",
       "      <th>country</th>\n",
       "      <th>description</th>\n",
       "      <th>designation</th>\n",
       "      <th>points</th>\n",
       "      <th>price</th>\n",
       "      <th>province</th>\n",
       "      <th>region_1</th>\n",
       "      <th>region_2</th>\n",
       "      <th>taster_name</th>\n",
       "      <th>taster_twitter_handle</th>\n",
       "      <th>title</th>\n",
       "      <th>variety</th>\n",
       "      <th>winery</th>\n",
       "    </tr>\n",
       "  </thead>\n",
       "  <tbody>\n",
       "    <tr>\n",
       "      <th>0</th>\n",
       "      <td>Italy</td>\n",
       "      <td>Aromas include tropical fruit, broom, brimston...</td>\n",
       "      <td>Vulkà Bianco</td>\n",
       "      <td>87</td>\n",
       "      <td>NaN</td>\n",
       "      <td>Sicily &amp; Sardinia</td>\n",
       "      <td>Etna</td>\n",
       "      <td>NaN</td>\n",
       "      <td>Kerin O’Keefe</td>\n",
       "      <td>@kerinokeefe</td>\n",
       "      <td>Nicosia 2013 Vulkà Bianco  (Etna)</td>\n",
       "      <td>White Blend</td>\n",
       "      <td>Nicosia</td>\n",
       "    </tr>\n",
       "    <tr>\n",
       "      <th>1</th>\n",
       "      <td>Portugal</td>\n",
       "      <td>This is ripe and fruity, a wine that is smooth...</td>\n",
       "      <td>Avidagos</td>\n",
       "      <td>87</td>\n",
       "      <td>15.0</td>\n",
       "      <td>Douro</td>\n",
       "      <td>NaN</td>\n",
       "      <td>NaN</td>\n",
       "      <td>Roger Voss</td>\n",
       "      <td>@vossroger</td>\n",
       "      <td>Quinta dos Avidagos 2011 Avidagos Red (Douro)</td>\n",
       "      <td>Portuguese Red</td>\n",
       "      <td>Quinta dos Avidagos</td>\n",
       "    </tr>\n",
       "    <tr>\n",
       "      <th>2</th>\n",
       "      <td>US</td>\n",
       "      <td>Tart and snappy, the flavors of lime flesh and...</td>\n",
       "      <td>NaN</td>\n",
       "      <td>87</td>\n",
       "      <td>14.0</td>\n",
       "      <td>Oregon</td>\n",
       "      <td>Willamette Valley</td>\n",
       "      <td>Willamette Valley</td>\n",
       "      <td>Paul Gregutt</td>\n",
       "      <td>@paulgwine</td>\n",
       "      <td>Rainstorm 2013 Pinot Gris (Willamette Valley)</td>\n",
       "      <td>Pinot Gris</td>\n",
       "      <td>Rainstorm</td>\n",
       "    </tr>\n",
       "    <tr>\n",
       "      <th>3</th>\n",
       "      <td>US</td>\n",
       "      <td>Pineapple rind, lemon pith and orange blossom ...</td>\n",
       "      <td>Reserve Late Harvest</td>\n",
       "      <td>87</td>\n",
       "      <td>13.0</td>\n",
       "      <td>Michigan</td>\n",
       "      <td>Lake Michigan Shore</td>\n",
       "      <td>NaN</td>\n",
       "      <td>Alexander Peartree</td>\n",
       "      <td>NaN</td>\n",
       "      <td>St. Julian 2013 Reserve Late Harvest Riesling ...</td>\n",
       "      <td>Riesling</td>\n",
       "      <td>St. Julian</td>\n",
       "    </tr>\n",
       "    <tr>\n",
       "      <th>4</th>\n",
       "      <td>US</td>\n",
       "      <td>Much like the regular bottling from 2012, this...</td>\n",
       "      <td>Vintner's Reserve Wild Child Block</td>\n",
       "      <td>87</td>\n",
       "      <td>65.0</td>\n",
       "      <td>Oregon</td>\n",
       "      <td>Willamette Valley</td>\n",
       "      <td>Willamette Valley</td>\n",
       "      <td>Paul Gregutt</td>\n",
       "      <td>@paulgwine</td>\n",
       "      <td>Sweet Cheeks 2012 Vintner's Reserve Wild Child...</td>\n",
       "      <td>Pinot Noir</td>\n",
       "      <td>Sweet Cheeks</td>\n",
       "    </tr>\n",
       "  </tbody>\n",
       "</table>\n",
       "</div>"
      ],
      "text/plain": [
       "    country                                        description  \\\n",
       "0     Italy  Aromas include tropical fruit, broom, brimston...   \n",
       "1  Portugal  This is ripe and fruity, a wine that is smooth...   \n",
       "2        US  Tart and snappy, the flavors of lime flesh and...   \n",
       "3        US  Pineapple rind, lemon pith and orange blossom ...   \n",
       "4        US  Much like the regular bottling from 2012, this...   \n",
       "\n",
       "                          designation  points  price           province  \\\n",
       "0                        Vulkà Bianco      87    NaN  Sicily & Sardinia   \n",
       "1                            Avidagos      87   15.0              Douro   \n",
       "2                                 NaN      87   14.0             Oregon   \n",
       "3                Reserve Late Harvest      87   13.0           Michigan   \n",
       "4  Vintner's Reserve Wild Child Block      87   65.0             Oregon   \n",
       "\n",
       "              region_1           region_2         taster_name  \\\n",
       "0                 Etna                NaN       Kerin O’Keefe   \n",
       "1                  NaN                NaN          Roger Voss   \n",
       "2    Willamette Valley  Willamette Valley        Paul Gregutt   \n",
       "3  Lake Michigan Shore                NaN  Alexander Peartree   \n",
       "4    Willamette Valley  Willamette Valley        Paul Gregutt   \n",
       "\n",
       "  taster_twitter_handle                                              title  \\\n",
       "0          @kerinokeefe                  Nicosia 2013 Vulkà Bianco  (Etna)   \n",
       "1            @vossroger      Quinta dos Avidagos 2011 Avidagos Red (Douro)   \n",
       "2           @paulgwine       Rainstorm 2013 Pinot Gris (Willamette Valley)   \n",
       "3                   NaN  St. Julian 2013 Reserve Late Harvest Riesling ...   \n",
       "4           @paulgwine   Sweet Cheeks 2012 Vintner's Reserve Wild Child...   \n",
       "\n",
       "          variety               winery  \n",
       "0     White Blend              Nicosia  \n",
       "1  Portuguese Red  Quinta dos Avidagos  \n",
       "2      Pinot Gris            Rainstorm  \n",
       "3        Riesling           St. Julian  \n",
       "4      Pinot Noir         Sweet Cheeks  "
      ]
     },
     "execution_count": 1,
     "metadata": {},
     "output_type": "execute_result"
    }
   ],
   "source": [
    "import pandas as pd\n",
    "pd.set_option(\"display.max_rows\", 5)\n",
    "reviews = pd.read_csv(\"../input/wine-reviews/winemag-data-130k-v2.csv\", index_col=0)\n",
    "\n",
    "from learntools.core import binder; binder.bind(globals())\n",
    "from learntools.pandas.summary_functions_and_maps import *\n",
    "print(\"Setup complete.\")\n",
    "\n",
    "reviews.head()"
   ]
  },
  {
   "cell_type": "markdown",
   "id": "09c2566f",
   "metadata": {
    "papermill": {
     "duration": 0.007255,
     "end_time": "2022-06-23T18:59:41.780182",
     "exception": false,
     "start_time": "2022-06-23T18:59:41.772927",
     "status": "completed"
    },
    "tags": []
   },
   "source": [
    "# Exercises"
   ]
  },
  {
   "cell_type": "markdown",
   "id": "1c2475c7",
   "metadata": {
    "papermill": {
     "duration": 0.007196,
     "end_time": "2022-06-23T18:59:41.794860",
     "exception": false,
     "start_time": "2022-06-23T18:59:41.787664",
     "status": "completed"
    },
    "tags": []
   },
   "source": [
    "## 1.\n",
    "\n",
    "What is the median of the `points` column in the `reviews` DataFrame?"
   ]
  },
  {
   "cell_type": "code",
   "execution_count": 2,
   "id": "7b80bb48",
   "metadata": {
    "execution": {
     "iopub.execute_input": "2022-06-23T18:59:41.811780Z",
     "iopub.status.busy": "2022-06-23T18:59:41.811362Z",
     "iopub.status.idle": "2022-06-23T18:59:41.823386Z",
     "shell.execute_reply": "2022-06-23T18:59:41.822187Z"
    },
    "papermill": {
     "duration": 0.02327,
     "end_time": "2022-06-23T18:59:41.825666",
     "exception": false,
     "start_time": "2022-06-23T18:59:41.802396",
     "status": "completed"
    },
    "tags": []
   },
   "outputs": [
    {
     "data": {
      "application/javascript": [
       "parent.postMessage({\"jupyterEvent\": \"custom.exercise_interaction\", \"data\": {\"outcomeType\": 1, \"valueTowardsCompletion\": 0.14285714285714285, \"interactionType\": 1, \"questionType\": 1, \"questionId\": \"1_MedianPoints\", \"learnToolsVersion\": \"0.3.4\", \"failureMessage\": \"\", \"exceptionClass\": \"\", \"trace\": \"\"}}, \"*\")"
      ],
      "text/plain": [
       "<IPython.core.display.Javascript object>"
      ]
     },
     "metadata": {},
     "output_type": "display_data"
    },
    {
     "data": {
      "text/markdown": [
       "<span style=\"color:#33cc33\">Correct</span>"
      ],
      "text/plain": [
       "Correct"
      ]
     },
     "metadata": {},
     "output_type": "display_data"
    }
   ],
   "source": [
    "median_points = reviews['points'].median()\n",
    "\n",
    "# Check your answer\n",
    "q1.check()"
   ]
  },
  {
   "cell_type": "code",
   "execution_count": 3,
   "id": "52fd62ca",
   "metadata": {
    "execution": {
     "iopub.execute_input": "2022-06-23T18:59:41.842823Z",
     "iopub.status.busy": "2022-06-23T18:59:41.842431Z",
     "iopub.status.idle": "2022-06-23T18:59:41.850262Z",
     "shell.execute_reply": "2022-06-23T18:59:41.849019Z"
    },
    "papermill": {
     "duration": 0.019273,
     "end_time": "2022-06-23T18:59:41.852765",
     "exception": false,
     "start_time": "2022-06-23T18:59:41.833492",
     "status": "completed"
    },
    "tags": []
   },
   "outputs": [
    {
     "data": {
      "application/javascript": [
       "parent.postMessage({\"jupyterEvent\": \"custom.exercise_interaction\", \"data\": {\"interactionType\": 3, \"questionType\": 1, \"questionId\": \"1_MedianPoints\", \"learnToolsVersion\": \"0.3.4\", \"valueTowardsCompletion\": 0.0, \"failureMessage\": \"\", \"exceptionClass\": \"\", \"trace\": \"\", \"outcomeType\": 4}}, \"*\")"
      ],
      "text/plain": [
       "<IPython.core.display.Javascript object>"
      ]
     },
     "metadata": {},
     "output_type": "display_data"
    },
    {
     "data": {
      "text/markdown": [
       "<span style=\"color:#33cc99\">Solution:</span> \n",
       "```python\n",
       "median_points = reviews.points.median()\n",
       "```"
      ],
      "text/plain": [
       "Solution: \n",
       "```python\n",
       "median_points = reviews.points.median()\n",
       "```"
      ]
     },
     "metadata": {},
     "output_type": "display_data"
    }
   ],
   "source": [
    "#q1.hint()\n",
    "q1.solution()"
   ]
  },
  {
   "cell_type": "markdown",
   "id": "9b05e8f6",
   "metadata": {
    "papermill": {
     "duration": 0.00764,
     "end_time": "2022-06-23T18:59:41.868391",
     "exception": false,
     "start_time": "2022-06-23T18:59:41.860751",
     "status": "completed"
    },
    "tags": []
   },
   "source": [
    "## 2. \n",
    "What countries are represented in the dataset? (Your answer should not include any duplicates.)"
   ]
  },
  {
   "cell_type": "code",
   "execution_count": 4,
   "id": "b8393397",
   "metadata": {
    "execution": {
     "iopub.execute_input": "2022-06-23T18:59:41.886249Z",
     "iopub.status.busy": "2022-06-23T18:59:41.885845Z",
     "iopub.status.idle": "2022-06-23T18:59:41.909009Z",
     "shell.execute_reply": "2022-06-23T18:59:41.907679Z"
    },
    "papermill": {
     "duration": 0.034643,
     "end_time": "2022-06-23T18:59:41.911279",
     "exception": false,
     "start_time": "2022-06-23T18:59:41.876636",
     "status": "completed"
    },
    "tags": []
   },
   "outputs": [
    {
     "data": {
      "application/javascript": [
       "parent.postMessage({\"jupyterEvent\": \"custom.exercise_interaction\", \"data\": {\"outcomeType\": 1, \"valueTowardsCompletion\": 0.14285714285714285, \"interactionType\": 1, \"questionType\": 2, \"questionId\": \"2_UniqueCountries\", \"learnToolsVersion\": \"0.3.4\", \"failureMessage\": \"\", \"exceptionClass\": \"\", \"trace\": \"\"}}, \"*\")"
      ],
      "text/plain": [
       "<IPython.core.display.Javascript object>"
      ]
     },
     "metadata": {},
     "output_type": "display_data"
    },
    {
     "data": {
      "text/markdown": [
       "<span style=\"color:#33cc33\">Correct</span>"
      ],
      "text/plain": [
       "Correct"
      ]
     },
     "metadata": {},
     "output_type": "display_data"
    }
   ],
   "source": [
    "countries = reviews['country'].unique()\n",
    "\n",
    "# Check your answer\n",
    "q2.check()"
   ]
  },
  {
   "cell_type": "code",
   "execution_count": 5,
   "id": "d7c914cb",
   "metadata": {
    "execution": {
     "iopub.execute_input": "2022-06-23T18:59:41.929590Z",
     "iopub.status.busy": "2022-06-23T18:59:41.929043Z",
     "iopub.status.idle": "2022-06-23T18:59:41.938910Z",
     "shell.execute_reply": "2022-06-23T18:59:41.938042Z"
    },
    "papermill": {
     "duration": 0.021334,
     "end_time": "2022-06-23T18:59:41.940990",
     "exception": false,
     "start_time": "2022-06-23T18:59:41.919656",
     "status": "completed"
    },
    "tags": []
   },
   "outputs": [
    {
     "data": {
      "application/javascript": [
       "parent.postMessage({\"jupyterEvent\": \"custom.exercise_interaction\", \"data\": {\"interactionType\": 3, \"questionType\": 2, \"questionId\": \"2_UniqueCountries\", \"learnToolsVersion\": \"0.3.4\", \"valueTowardsCompletion\": 0.0, \"failureMessage\": \"\", \"exceptionClass\": \"\", \"trace\": \"\", \"outcomeType\": 4}}, \"*\")"
      ],
      "text/plain": [
       "<IPython.core.display.Javascript object>"
      ]
     },
     "metadata": {},
     "output_type": "display_data"
    },
    {
     "data": {
      "text/markdown": [
       "<span style=\"color:#33cc99\">Solution:</span> \n",
       "```python\n",
       "countries = reviews.country.unique()\n",
       "```"
      ],
      "text/plain": [
       "Solution: \n",
       "```python\n",
       "countries = reviews.country.unique()\n",
       "```"
      ]
     },
     "metadata": {},
     "output_type": "display_data"
    }
   ],
   "source": [
    "#q2.hint()\n",
    "q2.solution()"
   ]
  },
  {
   "cell_type": "markdown",
   "id": "7863b2cc",
   "metadata": {
    "papermill": {
     "duration": 0.008152,
     "end_time": "2022-06-23T18:59:41.957721",
     "exception": false,
     "start_time": "2022-06-23T18:59:41.949569",
     "status": "completed"
    },
    "tags": []
   },
   "source": [
    "## 3.\n",
    "How often does each country appear in the dataset? Create a Series `reviews_per_country` mapping countries to the count of reviews of wines from that country."
   ]
  },
  {
   "cell_type": "code",
   "execution_count": 6,
   "id": "21aa86fd",
   "metadata": {
    "execution": {
     "iopub.execute_input": "2022-06-23T18:59:41.976492Z",
     "iopub.status.busy": "2022-06-23T18:59:41.976055Z",
     "iopub.status.idle": "2022-06-23T18:59:42.004163Z",
     "shell.execute_reply": "2022-06-23T18:59:42.003258Z"
    },
    "papermill": {
     "duration": 0.040133,
     "end_time": "2022-06-23T18:59:42.006345",
     "exception": false,
     "start_time": "2022-06-23T18:59:41.966212",
     "status": "completed"
    },
    "tags": []
   },
   "outputs": [
    {
     "data": {
      "application/javascript": [
       "parent.postMessage({\"jupyterEvent\": \"custom.exercise_interaction\", \"data\": {\"outcomeType\": 1, \"valueTowardsCompletion\": 0.14285714285714285, \"interactionType\": 1, \"questionType\": 1, \"questionId\": \"3_ReviewsPerCountry\", \"learnToolsVersion\": \"0.3.4\", \"failureMessage\": \"\", \"exceptionClass\": \"\", \"trace\": \"\"}}, \"*\")"
      ],
      "text/plain": [
       "<IPython.core.display.Javascript object>"
      ]
     },
     "metadata": {},
     "output_type": "display_data"
    },
    {
     "data": {
      "text/markdown": [
       "<span style=\"color:#33cc33\">Correct</span>"
      ],
      "text/plain": [
       "Correct"
      ]
     },
     "metadata": {},
     "output_type": "display_data"
    }
   ],
   "source": [
    "reviews_per_country = reviews['country'].value_counts()\n",
    "\n",
    "# Check your answer\n",
    "q3.check()"
   ]
  },
  {
   "cell_type": "code",
   "execution_count": 7,
   "id": "9067737d",
   "metadata": {
    "execution": {
     "iopub.execute_input": "2022-06-23T18:59:42.025903Z",
     "iopub.status.busy": "2022-06-23T18:59:42.025501Z",
     "iopub.status.idle": "2022-06-23T18:59:42.034787Z",
     "shell.execute_reply": "2022-06-23T18:59:42.033646Z"
    },
    "papermill": {
     "duration": 0.021864,
     "end_time": "2022-06-23T18:59:42.037110",
     "exception": false,
     "start_time": "2022-06-23T18:59:42.015246",
     "status": "completed"
    },
    "tags": []
   },
   "outputs": [
    {
     "data": {
      "application/javascript": [
       "parent.postMessage({\"jupyterEvent\": \"custom.exercise_interaction\", \"data\": {\"interactionType\": 3, \"questionType\": 1, \"questionId\": \"3_ReviewsPerCountry\", \"learnToolsVersion\": \"0.3.4\", \"valueTowardsCompletion\": 0.0, \"failureMessage\": \"\", \"exceptionClass\": \"\", \"trace\": \"\", \"outcomeType\": 4}}, \"*\")"
      ],
      "text/plain": [
       "<IPython.core.display.Javascript object>"
      ]
     },
     "metadata": {},
     "output_type": "display_data"
    },
    {
     "data": {
      "text/markdown": [
       "<span style=\"color:#33cc99\">Solution:</span> \n",
       "```python\n",
       "reviews_per_country = reviews.country.value_counts()\n",
       "```"
      ],
      "text/plain": [
       "Solution: \n",
       "```python\n",
       "reviews_per_country = reviews.country.value_counts()\n",
       "```"
      ]
     },
     "metadata": {},
     "output_type": "display_data"
    }
   ],
   "source": [
    "#q3.hint()\n",
    "q3.solution()"
   ]
  },
  {
   "cell_type": "markdown",
   "id": "e1058af1",
   "metadata": {
    "papermill": {
     "duration": 0.008734,
     "end_time": "2022-06-23T18:59:42.054981",
     "exception": false,
     "start_time": "2022-06-23T18:59:42.046247",
     "status": "completed"
    },
    "tags": []
   },
   "source": [
    "## 4.\n",
    "Create variable `centered_price` containing a version of the `price` column with the mean price subtracted.\n",
    "\n",
    "(Note: this 'centering' transformation is a common preprocessing step before applying various machine learning algorithms.) "
   ]
  },
  {
   "cell_type": "code",
   "execution_count": 8,
   "id": "dd511bb3",
   "metadata": {
    "execution": {
     "iopub.execute_input": "2022-06-23T18:59:42.075062Z",
     "iopub.status.busy": "2022-06-23T18:59:42.074309Z",
     "iopub.status.idle": "2022-06-23T18:59:42.086070Z",
     "shell.execute_reply": "2022-06-23T18:59:42.084873Z"
    },
    "papermill": {
     "duration": 0.024359,
     "end_time": "2022-06-23T18:59:42.088364",
     "exception": false,
     "start_time": "2022-06-23T18:59:42.064005",
     "status": "completed"
    },
    "tags": []
   },
   "outputs": [
    {
     "data": {
      "application/javascript": [
       "parent.postMessage({\"jupyterEvent\": \"custom.exercise_interaction\", \"data\": {\"outcomeType\": 1, \"valueTowardsCompletion\": 0.14285714285714285, \"interactionType\": 1, \"questionType\": 1, \"questionId\": \"4_CenteredPrice\", \"learnToolsVersion\": \"0.3.4\", \"failureMessage\": \"\", \"exceptionClass\": \"\", \"trace\": \"\"}}, \"*\")"
      ],
      "text/plain": [
       "<IPython.core.display.Javascript object>"
      ]
     },
     "metadata": {},
     "output_type": "display_data"
    },
    {
     "data": {
      "text/markdown": [
       "<span style=\"color:#33cc33\">Correct</span>"
      ],
      "text/plain": [
       "Correct"
      ]
     },
     "metadata": {},
     "output_type": "display_data"
    }
   ],
   "source": [
    "centered_price = reviews['price'] - reviews['price'].mean()\n",
    "\n",
    "# Check your answer\n",
    "q4.check()"
   ]
  },
  {
   "cell_type": "code",
   "execution_count": 9,
   "id": "a7cc46ef",
   "metadata": {
    "execution": {
     "iopub.execute_input": "2022-06-23T18:59:42.109818Z",
     "iopub.status.busy": "2022-06-23T18:59:42.109200Z",
     "iopub.status.idle": "2022-06-23T18:59:42.115984Z",
     "shell.execute_reply": "2022-06-23T18:59:42.115206Z"
    },
    "papermill": {
     "duration": 0.019741,
     "end_time": "2022-06-23T18:59:42.117984",
     "exception": false,
     "start_time": "2022-06-23T18:59:42.098243",
     "status": "completed"
    },
    "tags": []
   },
   "outputs": [
    {
     "data": {
      "application/javascript": [
       "parent.postMessage({\"jupyterEvent\": \"custom.exercise_interaction\", \"data\": {\"interactionType\": 3, \"questionType\": 1, \"questionId\": \"4_CenteredPrice\", \"learnToolsVersion\": \"0.3.4\", \"valueTowardsCompletion\": 0.0, \"failureMessage\": \"\", \"exceptionClass\": \"\", \"trace\": \"\", \"outcomeType\": 4}}, \"*\")"
      ],
      "text/plain": [
       "<IPython.core.display.Javascript object>"
      ]
     },
     "metadata": {},
     "output_type": "display_data"
    },
    {
     "data": {
      "text/markdown": [
       "<span style=\"color:#33cc99\">Solution:</span> \n",
       "```python\n",
       "centered_price = reviews.price - reviews.price.mean()\n",
       "```"
      ],
      "text/plain": [
       "Solution: \n",
       "```python\n",
       "centered_price = reviews.price - reviews.price.mean()\n",
       "```"
      ]
     },
     "metadata": {},
     "output_type": "display_data"
    }
   ],
   "source": [
    "#q4.hint()\n",
    "q4.solution()"
   ]
  },
  {
   "cell_type": "markdown",
   "id": "c86ce328",
   "metadata": {
    "papermill": {
     "duration": 0.009281,
     "end_time": "2022-06-23T18:59:42.136817",
     "exception": false,
     "start_time": "2022-06-23T18:59:42.127536",
     "status": "completed"
    },
    "tags": []
   },
   "source": [
    "## 5.\n",
    "I'm an economical wine buyer. Which wine is the \"best bargain\"? Create a variable `bargain_wine` with the title of the wine with the highest points-to-price ratio in the dataset."
   ]
  },
  {
   "cell_type": "code",
   "execution_count": 10,
   "id": "cd914e7c",
   "metadata": {
    "execution": {
     "iopub.execute_input": "2022-06-23T18:59:42.158256Z",
     "iopub.status.busy": "2022-06-23T18:59:42.157623Z",
     "iopub.status.idle": "2022-06-23T18:59:42.171245Z",
     "shell.execute_reply": "2022-06-23T18:59:42.170484Z"
    },
    "papermill": {
     "duration": 0.026666,
     "end_time": "2022-06-23T18:59:42.173361",
     "exception": false,
     "start_time": "2022-06-23T18:59:42.146695",
     "status": "completed"
    },
    "tags": []
   },
   "outputs": [
    {
     "data": {
      "application/javascript": [
       "parent.postMessage({\"jupyterEvent\": \"custom.exercise_interaction\", \"data\": {\"outcomeType\": 1, \"valueTowardsCompletion\": 0.14285714285714285, \"interactionType\": 1, \"questionType\": 2, \"questionId\": \"5_BargainWine\", \"learnToolsVersion\": \"0.3.4\", \"failureMessage\": \"\", \"exceptionClass\": \"\", \"trace\": \"\"}}, \"*\")"
      ],
      "text/plain": [
       "<IPython.core.display.Javascript object>"
      ]
     },
     "metadata": {},
     "output_type": "display_data"
    },
    {
     "data": {
      "text/markdown": [
       "<span style=\"color:#33cc33\">Correct</span>"
      ],
      "text/plain": [
       "Correct"
      ]
     },
     "metadata": {},
     "output_type": "display_data"
    }
   ],
   "source": [
    "bargain_idx = (reviews.points / reviews.price).idxmax()\n",
    "bargain_wine = reviews.loc[bargain_idx, 'title'] \n",
    "\n",
    "# Check your answer\n",
    "q5.check()"
   ]
  },
  {
   "cell_type": "code",
   "execution_count": 11,
   "id": "7b556b8b",
   "metadata": {
    "execution": {
     "iopub.execute_input": "2022-06-23T18:59:42.195257Z",
     "iopub.status.busy": "2022-06-23T18:59:42.194657Z",
     "iopub.status.idle": "2022-06-23T18:59:42.201584Z",
     "shell.execute_reply": "2022-06-23T18:59:42.200665Z"
    },
    "papermill": {
     "duration": 0.02043,
     "end_time": "2022-06-23T18:59:42.203772",
     "exception": false,
     "start_time": "2022-06-23T18:59:42.183342",
     "status": "completed"
    },
    "tags": []
   },
   "outputs": [
    {
     "data": {
      "application/javascript": [
       "parent.postMessage({\"jupyterEvent\": \"custom.exercise_interaction\", \"data\": {\"interactionType\": 3, \"questionType\": 2, \"questionId\": \"5_BargainWine\", \"learnToolsVersion\": \"0.3.4\", \"valueTowardsCompletion\": 0.0, \"failureMessage\": \"\", \"exceptionClass\": \"\", \"trace\": \"\", \"outcomeType\": 4}}, \"*\")"
      ],
      "text/plain": [
       "<IPython.core.display.Javascript object>"
      ]
     },
     "metadata": {},
     "output_type": "display_data"
    },
    {
     "data": {
      "text/markdown": [
       "<span style=\"color:#33cc99\">Solution:</span> \n",
       "```python\n",
       "bargain_idx = (reviews.points / reviews.price).idxmax()\n",
       "bargain_wine = reviews.loc[bargain_idx, 'title']\n",
       "```"
      ],
      "text/plain": [
       "Solution: \n",
       "```python\n",
       "bargain_idx = (reviews.points / reviews.price).idxmax()\n",
       "bargain_wine = reviews.loc[bargain_idx, 'title']\n",
       "```"
      ]
     },
     "metadata": {},
     "output_type": "display_data"
    }
   ],
   "source": [
    "#q5.hint()\n",
    "\n",
    "q5.solution()"
   ]
  },
  {
   "cell_type": "markdown",
   "id": "7000303b",
   "metadata": {
    "papermill": {
     "duration": 0.009713,
     "end_time": "2022-06-23T18:59:42.223605",
     "exception": false,
     "start_time": "2022-06-23T18:59:42.213892",
     "status": "completed"
    },
    "tags": []
   },
   "source": [
    "## 6.\n",
    "There are only so many words you can use when describing a bottle of wine. Is a wine more likely to be \"tropical\" or \"fruity\"? Create a Series `descriptor_counts` counting how many times each of these two words appears in the `description` column in the dataset. (For simplicity, let's ignore the capitalized versions of these words.)"
   ]
  },
  {
   "cell_type": "code",
   "execution_count": 12,
   "id": "3dbd1f7e",
   "metadata": {
    "execution": {
     "iopub.execute_input": "2022-06-23T18:59:42.245357Z",
     "iopub.status.busy": "2022-06-23T18:59:42.244791Z",
     "iopub.status.idle": "2022-06-23T18:59:42.402218Z",
     "shell.execute_reply": "2022-06-23T18:59:42.400815Z"
    },
    "papermill": {
     "duration": 0.171235,
     "end_time": "2022-06-23T18:59:42.404730",
     "exception": false,
     "start_time": "2022-06-23T18:59:42.233495",
     "status": "completed"
    },
    "tags": []
   },
   "outputs": [
    {
     "data": {
      "application/javascript": [
       "parent.postMessage({\"jupyterEvent\": \"custom.exercise_interaction\", \"data\": {\"outcomeType\": 1, \"valueTowardsCompletion\": 0.14285714285714285, \"interactionType\": 1, \"questionType\": 1, \"questionId\": \"6_DescriptorCounts\", \"learnToolsVersion\": \"0.3.4\", \"failureMessage\": \"\", \"exceptionClass\": \"\", \"trace\": \"\"}}, \"*\")"
      ],
      "text/plain": [
       "<IPython.core.display.Javascript object>"
      ]
     },
     "metadata": {},
     "output_type": "display_data"
    },
    {
     "data": {
      "text/markdown": [
       "<span style=\"color:#33cc33\">Correct</span>"
      ],
      "text/plain": [
       "Correct"
      ]
     },
     "metadata": {},
     "output_type": "display_data"
    }
   ],
   "source": [
    "n_trop = reviews.description.map(lambda desc: \"tropical\" in desc).sum()\n",
    "n_fruity = reviews.description.map(lambda desc: \"fruity\" in desc).sum()\n",
    "descriptor_counts = pd.Series([n_trop, n_fruity], index=['tropical', 'fruity'])\n",
    "\n",
    "# Check your answer\n",
    "q6.check()"
   ]
  },
  {
   "cell_type": "code",
   "execution_count": 13,
   "id": "b4fc099e",
   "metadata": {
    "execution": {
     "iopub.execute_input": "2022-06-23T18:59:42.427407Z",
     "iopub.status.busy": "2022-06-23T18:59:42.427003Z",
     "iopub.status.idle": "2022-06-23T18:59:42.436317Z",
     "shell.execute_reply": "2022-06-23T18:59:42.435127Z"
    },
    "papermill": {
     "duration": 0.023534,
     "end_time": "2022-06-23T18:59:42.438596",
     "exception": false,
     "start_time": "2022-06-23T18:59:42.415062",
     "status": "completed"
    },
    "tags": []
   },
   "outputs": [
    {
     "data": {
      "application/javascript": [
       "parent.postMessage({\"jupyterEvent\": \"custom.exercise_interaction\", \"data\": {\"interactionType\": 3, \"questionType\": 1, \"questionId\": \"6_DescriptorCounts\", \"learnToolsVersion\": \"0.3.4\", \"valueTowardsCompletion\": 0.0, \"failureMessage\": \"\", \"exceptionClass\": \"\", \"trace\": \"\", \"outcomeType\": 4}}, \"*\")"
      ],
      "text/plain": [
       "<IPython.core.display.Javascript object>"
      ]
     },
     "metadata": {},
     "output_type": "display_data"
    },
    {
     "data": {
      "text/markdown": [
       "<span style=\"color:#33cc99\">Solution:</span> \n",
       "```python\n",
       "n_trop = reviews.description.map(lambda desc: \"tropical\" in desc).sum()\n",
       "n_fruity = reviews.description.map(lambda desc: \"fruity\" in desc).sum()\n",
       "descriptor_counts = pd.Series([n_trop, n_fruity], index=['tropical', 'fruity'])\n",
       "```"
      ],
      "text/plain": [
       "Solution: \n",
       "```python\n",
       "n_trop = reviews.description.map(lambda desc: \"tropical\" in desc).sum()\n",
       "n_fruity = reviews.description.map(lambda desc: \"fruity\" in desc).sum()\n",
       "descriptor_counts = pd.Series([n_trop, n_fruity], index=['tropical', 'fruity'])\n",
       "```"
      ]
     },
     "metadata": {},
     "output_type": "display_data"
    }
   ],
   "source": [
    "#q6.hint()\n",
    "q6.solution()"
   ]
  },
  {
   "cell_type": "markdown",
   "id": "929cb3fc",
   "metadata": {
    "papermill": {
     "duration": 0.010216,
     "end_time": "2022-06-23T18:59:42.459433",
     "exception": false,
     "start_time": "2022-06-23T18:59:42.449217",
     "status": "completed"
    },
    "tags": []
   },
   "source": [
    "## 7.\n",
    "We'd like to host these wine reviews on our website, but a rating system ranging from 80 to 100 points is too hard to understand - we'd like to translate them into simple star ratings. A score of 95 or higher counts as 3 stars, a score of at least 85 but less than 95 is 2 stars. Any other score is 1 star.\n",
    "\n",
    "Also, the Canadian Vintners Association bought a lot of ads on the site, so any wines from Canada should automatically get 3 stars, regardless of points.\n",
    "\n",
    "Create a series `star_ratings` with the number of stars corresponding to each review in the dataset."
   ]
  },
  {
   "cell_type": "code",
   "execution_count": 14,
   "id": "9f1b02cd",
   "metadata": {
    "execution": {
     "iopub.execute_input": "2022-06-23T18:59:42.482766Z",
     "iopub.status.busy": "2022-06-23T18:59:42.482014Z",
     "iopub.status.idle": "2022-06-23T18:59:47.481347Z",
     "shell.execute_reply": "2022-06-23T18:59:47.480245Z"
    },
    "papermill": {
     "duration": 5.013585,
     "end_time": "2022-06-23T18:59:47.483666",
     "exception": false,
     "start_time": "2022-06-23T18:59:42.470081",
     "status": "completed"
    },
    "tags": []
   },
   "outputs": [
    {
     "data": {
      "application/javascript": [
       "parent.postMessage({\"jupyterEvent\": \"custom.exercise_interaction\", \"data\": {\"outcomeType\": 1, \"valueTowardsCompletion\": 0.14285714285714285, \"interactionType\": 1, \"questionType\": 1, \"questionId\": \"7_StarRatings\", \"learnToolsVersion\": \"0.3.4\", \"failureMessage\": \"\", \"exceptionClass\": \"\", \"trace\": \"\"}}, \"*\")"
      ],
      "text/plain": [
       "<IPython.core.display.Javascript object>"
      ]
     },
     "metadata": {},
     "output_type": "display_data"
    },
    {
     "data": {
      "text/markdown": [
       "<span style=\"color:#33cc33\">Correct</span>"
      ],
      "text/plain": [
       "Correct"
      ]
     },
     "metadata": {},
     "output_type": "display_data"
    }
   ],
   "source": [
    "def stars(row):\n",
    "    if row.country == 'Canada':\n",
    "        return 3\n",
    "    elif row.points >= 95:\n",
    "        return 3\n",
    "    elif row.points >= 85:\n",
    "        return 2\n",
    "    else:\n",
    "        return 1\n",
    "\n",
    "star_ratings = reviews.apply(stars, axis='columns')\n",
    "\n",
    "# Check your answer\n",
    "q7.check()"
   ]
  },
  {
   "cell_type": "code",
   "execution_count": 15,
   "id": "e3435153",
   "metadata": {
    "execution": {
     "iopub.execute_input": "2022-06-23T18:59:47.508137Z",
     "iopub.status.busy": "2022-06-23T18:59:47.507375Z",
     "iopub.status.idle": "2022-06-23T18:59:47.517011Z",
     "shell.execute_reply": "2022-06-23T18:59:47.516179Z"
    },
    "papermill": {
     "duration": 0.024741,
     "end_time": "2022-06-23T18:59:47.519167",
     "exception": false,
     "start_time": "2022-06-23T18:59:47.494426",
     "status": "completed"
    },
    "tags": []
   },
   "outputs": [
    {
     "data": {
      "application/javascript": [
       "parent.postMessage({\"jupyterEvent\": \"custom.exercise_interaction\", \"data\": {\"interactionType\": 3, \"questionType\": 1, \"questionId\": \"7_StarRatings\", \"learnToolsVersion\": \"0.3.4\", \"valueTowardsCompletion\": 0.0, \"failureMessage\": \"\", \"exceptionClass\": \"\", \"trace\": \"\", \"outcomeType\": 4}}, \"*\")"
      ],
      "text/plain": [
       "<IPython.core.display.Javascript object>"
      ]
     },
     "metadata": {},
     "output_type": "display_data"
    },
    {
     "data": {
      "text/markdown": [
       "<span style=\"color:#33cc99\">Solution:</span> \n",
       "```python\n",
       "def stars(row):\n",
       "    if row.country == 'Canada':\n",
       "        return 3\n",
       "    elif row.points >= 95:\n",
       "        return 3\n",
       "    elif row.points >= 85:\n",
       "        return 2\n",
       "    else:\n",
       "        return 1\n",
       "    \n",
       "star_ratings = reviews.apply(stars, axis='columns')\n",
       "```"
      ],
      "text/plain": [
       "Solution: \n",
       "```python\n",
       "def stars(row):\n",
       "    if row.country == 'Canada':\n",
       "        return 3\n",
       "    elif row.points >= 95:\n",
       "        return 3\n",
       "    elif row.points >= 85:\n",
       "        return 2\n",
       "    else:\n",
       "        return 1\n",
       "    \n",
       "star_ratings = reviews.apply(stars, axis='columns')\n",
       "```"
      ]
     },
     "metadata": {},
     "output_type": "display_data"
    }
   ],
   "source": [
    "#q7.hint()\n",
    "q7.solution()"
   ]
  },
  {
   "cell_type": "markdown",
   "id": "4e0137a9",
   "metadata": {
    "papermill": {
     "duration": 0.010738,
     "end_time": "2022-06-23T18:59:47.540874",
     "exception": false,
     "start_time": "2022-06-23T18:59:47.530136",
     "status": "completed"
    },
    "tags": []
   },
   "source": [
    "# Keep going\n",
    "Continue to **[grouping and sorting](https://www.kaggle.com/residentmario/grouping-and-sorting)**."
   ]
  },
  {
   "cell_type": "markdown",
   "id": "c638d366",
   "metadata": {
    "papermill": {
     "duration": 0.01108,
     "end_time": "2022-06-23T18:59:47.565854",
     "exception": false,
     "start_time": "2022-06-23T18:59:47.554774",
     "status": "completed"
    },
    "tags": []
   },
   "source": [
    "---\n",
    "\n",
    "\n",
    "\n",
    "\n",
    "*Have questions or comments? Visit the [course discussion forum](https://www.kaggle.com/learn/pandas/discussion) to chat with other learners.*"
   ]
  }
 ],
 "metadata": {
  "kernelspec": {
   "display_name": "Python 3",
   "language": "python",
   "name": "python3"
  },
  "language_info": {
   "codemirror_mode": {
    "name": "ipython",
    "version": 3
   },
   "file_extension": ".py",
   "mimetype": "text/x-python",
   "name": "python",
   "nbconvert_exporter": "python",
   "pygments_lexer": "ipython3",
   "version": "3.7.12"
  },
  "papermill": {
   "default_parameters": {},
   "duration": 24.728287,
   "end_time": "2022-06-23T18:59:48.298524",
   "environment_variables": {},
   "exception": null,
   "input_path": "__notebook__.ipynb",
   "output_path": "__notebook__.ipynb",
   "parameters": {},
   "start_time": "2022-06-23T18:59:23.570237",
   "version": "2.3.4"
  }
 },
 "nbformat": 4,
 "nbformat_minor": 5
}
