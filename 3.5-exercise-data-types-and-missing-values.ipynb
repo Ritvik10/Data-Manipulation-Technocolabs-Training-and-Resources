{
 "cells": [
  {
   "cell_type": "markdown",
   "id": "b537ff2b",
   "metadata": {
    "papermill": {
     "duration": 0.005879,
     "end_time": "2022-06-23T19:43:04.903984",
     "exception": false,
     "start_time": "2022-06-23T19:43:04.898105",
     "status": "completed"
    },
    "tags": []
   },
   "source": [
    "**This notebook is an exercise in the [Pandas](https://www.kaggle.com/learn/pandas) course.  You can reference the tutorial at [this link](https://www.kaggle.com/residentmario/data-types-and-missing-values).**\n",
    "\n",
    "---\n"
   ]
  },
  {
   "cell_type": "markdown",
   "id": "052692e4",
   "metadata": {
    "papermill": {
     "duration": 0.004572,
     "end_time": "2022-06-23T19:43:04.913705",
     "exception": false,
     "start_time": "2022-06-23T19:43:04.909133",
     "status": "completed"
    },
    "tags": []
   },
   "source": [
    "# Introduction\n",
    "\n",
    "Run the following cell to load your data and some utility functions."
   ]
  },
  {
   "cell_type": "code",
   "execution_count": 1,
   "id": "79262ad1",
   "metadata": {
    "execution": {
     "iopub.execute_input": "2022-06-23T19:43:04.925726Z",
     "iopub.status.busy": "2022-06-23T19:43:04.925003Z",
     "iopub.status.idle": "2022-06-23T19:43:07.683359Z",
     "shell.execute_reply": "2022-06-23T19:43:07.681894Z"
    },
    "papermill": {
     "duration": 2.767905,
     "end_time": "2022-06-23T19:43:07.686386",
     "exception": false,
     "start_time": "2022-06-23T19:43:04.918481",
     "status": "completed"
    },
    "tags": []
   },
   "outputs": [
    {
     "name": "stdout",
     "output_type": "stream",
     "text": [
      "Setup complete.\n"
     ]
    }
   ],
   "source": [
    "import pandas as pd\n",
    "\n",
    "reviews = pd.read_csv(\"../input/wine-reviews/winemag-data-130k-v2.csv\", index_col=0)\n",
    "\n",
    "from learntools.core import binder; binder.bind(globals())\n",
    "from learntools.pandas.data_types_and_missing_data import *\n",
    "print(\"Setup complete.\")"
   ]
  },
  {
   "cell_type": "markdown",
   "id": "d0e96b7e",
   "metadata": {
    "papermill": {
     "duration": 0.004776,
     "end_time": "2022-06-23T19:43:07.696406",
     "exception": false,
     "start_time": "2022-06-23T19:43:07.691630",
     "status": "completed"
    },
    "tags": []
   },
   "source": [
    "# Exercises"
   ]
  },
  {
   "cell_type": "markdown",
   "id": "c73765c7",
   "metadata": {
    "papermill": {
     "duration": 0.004878,
     "end_time": "2022-06-23T19:43:07.706347",
     "exception": false,
     "start_time": "2022-06-23T19:43:07.701469",
     "status": "completed"
    },
    "tags": []
   },
   "source": [
    "## 1. \n",
    "What is the data type of the `points` column in the dataset?"
   ]
  },
  {
   "cell_type": "code",
   "execution_count": 2,
   "id": "3ee48dbb",
   "metadata": {
    "execution": {
     "iopub.execute_input": "2022-06-23T19:43:07.717844Z",
     "iopub.status.busy": "2022-06-23T19:43:07.717466Z",
     "iopub.status.idle": "2022-06-23T19:43:07.731126Z",
     "shell.execute_reply": "2022-06-23T19:43:07.729945Z"
    },
    "papermill": {
     "duration": 0.022261,
     "end_time": "2022-06-23T19:43:07.733495",
     "exception": false,
     "start_time": "2022-06-23T19:43:07.711234",
     "status": "completed"
    },
    "tags": []
   },
   "outputs": [
    {
     "data": {
      "application/javascript": [
       "parent.postMessage({\"jupyterEvent\": \"custom.exercise_interaction\", \"data\": {\"outcomeType\": 1, \"valueTowardsCompletion\": 0.25, \"interactionType\": 1, \"questionType\": 1, \"questionId\": \"1_PointsDtype\", \"learnToolsVersion\": \"0.3.4\", \"failureMessage\": \"\", \"exceptionClass\": \"\", \"trace\": \"\"}}, \"*\")"
      ],
      "text/plain": [
       "<IPython.core.display.Javascript object>"
      ]
     },
     "metadata": {},
     "output_type": "display_data"
    },
    {
     "data": {
      "text/markdown": [
       "<span style=\"color:#33cc33\">Correct</span>"
      ],
      "text/plain": [
       "Correct"
      ]
     },
     "metadata": {},
     "output_type": "display_data"
    }
   ],
   "source": [
    "# Your code here\n",
    "dtype = reviews['points'].dtype\n",
    "\n",
    "\n",
    "# Check your answer\n",
    "q1.check()"
   ]
  },
  {
   "cell_type": "code",
   "execution_count": 3,
   "id": "dfd888cd",
   "metadata": {
    "execution": {
     "iopub.execute_input": "2022-06-23T19:43:07.746716Z",
     "iopub.status.busy": "2022-06-23T19:43:07.745834Z",
     "iopub.status.idle": "2022-06-23T19:43:07.755440Z",
     "shell.execute_reply": "2022-06-23T19:43:07.754249Z"
    },
    "papermill": {
     "duration": 0.018984,
     "end_time": "2022-06-23T19:43:07.757903",
     "exception": false,
     "start_time": "2022-06-23T19:43:07.738919",
     "status": "completed"
    },
    "tags": []
   },
   "outputs": [
    {
     "data": {
      "application/javascript": [
       "parent.postMessage({\"jupyterEvent\": \"custom.exercise_interaction\", \"data\": {\"interactionType\": 3, \"questionType\": 1, \"questionId\": \"1_PointsDtype\", \"learnToolsVersion\": \"0.3.4\", \"valueTowardsCompletion\": 0.0, \"failureMessage\": \"\", \"exceptionClass\": \"\", \"trace\": \"\", \"outcomeType\": 4}}, \"*\")"
      ],
      "text/plain": [
       "<IPython.core.display.Javascript object>"
      ]
     },
     "metadata": {},
     "output_type": "display_data"
    },
    {
     "data": {
      "text/markdown": [
       "<span style=\"color:#33cc99\">Solution:</span> \n",
       "```python\n",
       "dtype = reviews.points.dtype\n",
       "```"
      ],
      "text/plain": [
       "Solution: \n",
       "```python\n",
       "dtype = reviews.points.dtype\n",
       "```"
      ]
     },
     "metadata": {},
     "output_type": "display_data"
    }
   ],
   "source": [
    "#q1.hint()\n",
    "q1.solution()"
   ]
  },
  {
   "cell_type": "markdown",
   "id": "fc72fb94",
   "metadata": {
    "papermill": {
     "duration": 0.005151,
     "end_time": "2022-06-23T19:43:07.768641",
     "exception": false,
     "start_time": "2022-06-23T19:43:07.763490",
     "status": "completed"
    },
    "tags": []
   },
   "source": [
    "## 2. \n",
    "Create a Series from entries in the `points` column, but convert the entries to strings. Hint: strings are `str` in native Python."
   ]
  },
  {
   "cell_type": "code",
   "execution_count": 4,
   "id": "1f28ef57",
   "metadata": {
    "execution": {
     "iopub.execute_input": "2022-06-23T19:43:07.781342Z",
     "iopub.status.busy": "2022-06-23T19:43:07.780950Z",
     "iopub.status.idle": "2022-06-23T19:43:07.915597Z",
     "shell.execute_reply": "2022-06-23T19:43:07.914434Z"
    },
    "papermill": {
     "duration": 0.143876,
     "end_time": "2022-06-23T19:43:07.917875",
     "exception": false,
     "start_time": "2022-06-23T19:43:07.773999",
     "status": "completed"
    },
    "tags": []
   },
   "outputs": [
    {
     "data": {
      "application/javascript": [
       "parent.postMessage({\"jupyterEvent\": \"custom.exercise_interaction\", \"data\": {\"outcomeType\": 1, \"valueTowardsCompletion\": 0.25, \"interactionType\": 1, \"questionType\": 1, \"questionId\": \"2_StrPoints\", \"learnToolsVersion\": \"0.3.4\", \"failureMessage\": \"\", \"exceptionClass\": \"\", \"trace\": \"\"}}, \"*\")"
      ],
      "text/plain": [
       "<IPython.core.display.Javascript object>"
      ]
     },
     "metadata": {},
     "output_type": "display_data"
    },
    {
     "data": {
      "text/markdown": [
       "<span style=\"color:#33cc33\">Correct</span>"
      ],
      "text/plain": [
       "Correct"
      ]
     },
     "metadata": {},
     "output_type": "display_data"
    }
   ],
   "source": [
    "point_strings = reviews['points'].astype('str')\n",
    "\n",
    "# Check your answer\n",
    "q2.check()"
   ]
  },
  {
   "cell_type": "code",
   "execution_count": 5,
   "id": "e68d360c",
   "metadata": {
    "execution": {
     "iopub.execute_input": "2022-06-23T19:43:07.930898Z",
     "iopub.status.busy": "2022-06-23T19:43:07.930530Z",
     "iopub.status.idle": "2022-06-23T19:43:07.940316Z",
     "shell.execute_reply": "2022-06-23T19:43:07.939006Z"
    },
    "papermill": {
     "duration": 0.018939,
     "end_time": "2022-06-23T19:43:07.942603",
     "exception": false,
     "start_time": "2022-06-23T19:43:07.923664",
     "status": "completed"
    },
    "tags": []
   },
   "outputs": [
    {
     "data": {
      "application/javascript": [
       "parent.postMessage({\"jupyterEvent\": \"custom.exercise_interaction\", \"data\": {\"interactionType\": 3, \"questionType\": 1, \"questionId\": \"2_StrPoints\", \"learnToolsVersion\": \"0.3.4\", \"valueTowardsCompletion\": 0.0, \"failureMessage\": \"\", \"exceptionClass\": \"\", \"trace\": \"\", \"outcomeType\": 4}}, \"*\")"
      ],
      "text/plain": [
       "<IPython.core.display.Javascript object>"
      ]
     },
     "metadata": {},
     "output_type": "display_data"
    },
    {
     "data": {
      "text/markdown": [
       "<span style=\"color:#33cc99\">Solution:</span> \n",
       "```python\n",
       "point_strings = reviews.points.astype(str)\n",
       "```"
      ],
      "text/plain": [
       "Solution: \n",
       "```python\n",
       "point_strings = reviews.points.astype(str)\n",
       "```"
      ]
     },
     "metadata": {},
     "output_type": "display_data"
    }
   ],
   "source": [
    "#q2.hint()\n",
    "q2.solution()"
   ]
  },
  {
   "cell_type": "markdown",
   "id": "e49a3a44",
   "metadata": {
    "papermill": {
     "duration": 0.005662,
     "end_time": "2022-06-23T19:43:07.954395",
     "exception": false,
     "start_time": "2022-06-23T19:43:07.948733",
     "status": "completed"
    },
    "tags": []
   },
   "source": [
    "## 3.\n",
    "Sometimes the price column is null. How many reviews in the dataset are missing a price?"
   ]
  },
  {
   "cell_type": "code",
   "execution_count": 6,
   "id": "2677fe1d",
   "metadata": {
    "execution": {
     "iopub.execute_input": "2022-06-23T19:43:07.968469Z",
     "iopub.status.busy": "2022-06-23T19:43:07.967576Z",
     "iopub.status.idle": "2022-06-23T19:43:07.984880Z",
     "shell.execute_reply": "2022-06-23T19:43:07.984002Z"
    },
    "papermill": {
     "duration": 0.026739,
     "end_time": "2022-06-23T19:43:07.987068",
     "exception": false,
     "start_time": "2022-06-23T19:43:07.960329",
     "status": "completed"
    },
    "tags": []
   },
   "outputs": [
    {
     "data": {
      "application/javascript": [
       "parent.postMessage({\"jupyterEvent\": \"custom.exercise_interaction\", \"data\": {\"outcomeType\": 1, \"valueTowardsCompletion\": 0.25, \"interactionType\": 1, \"questionType\": 1, \"questionId\": \"3_CountMissingPrices\", \"learnToolsVersion\": \"0.3.4\", \"failureMessage\": \"\", \"exceptionClass\": \"\", \"trace\": \"\"}}, \"*\")"
      ],
      "text/plain": [
       "<IPython.core.display.Javascript object>"
      ]
     },
     "metadata": {},
     "output_type": "display_data"
    },
    {
     "data": {
      "text/markdown": [
       "<span style=\"color:#33cc33\">Correct</span>"
      ],
      "text/plain": [
       "Correct"
      ]
     },
     "metadata": {},
     "output_type": "display_data"
    }
   ],
   "source": [
    "missing_price_reviews = reviews[reviews.price.isnull()]\n",
    "n_missing_prices = len(missing_price_reviews)\n",
    "# Cute alternative solution: if we sum a boolean series, True is treated as 1 and False as 0\n",
    "n_missing_prices = reviews.price.isnull().sum()\n",
    "# or equivalently:\n",
    "n_missing_prices = pd.isnull(reviews.price).sum()\n",
    "\n",
    "# Check your answer\n",
    "q3.check()"
   ]
  },
  {
   "cell_type": "code",
   "execution_count": 7,
   "id": "bd285900",
   "metadata": {
    "execution": {
     "iopub.execute_input": "2022-06-23T19:43:08.001218Z",
     "iopub.status.busy": "2022-06-23T19:43:08.000808Z",
     "iopub.status.idle": "2022-06-23T19:43:08.009473Z",
     "shell.execute_reply": "2022-06-23T19:43:08.008314Z"
    },
    "papermill": {
     "duration": 0.01854,
     "end_time": "2022-06-23T19:43:08.011947",
     "exception": false,
     "start_time": "2022-06-23T19:43:07.993407",
     "status": "completed"
    },
    "tags": []
   },
   "outputs": [
    {
     "data": {
      "application/javascript": [
       "parent.postMessage({\"jupyterEvent\": \"custom.exercise_interaction\", \"data\": {\"interactionType\": 3, \"questionType\": 1, \"questionId\": \"3_CountMissingPrices\", \"learnToolsVersion\": \"0.3.4\", \"valueTowardsCompletion\": 0.0, \"failureMessage\": \"\", \"exceptionClass\": \"\", \"trace\": \"\", \"outcomeType\": 4}}, \"*\")"
      ],
      "text/plain": [
       "<IPython.core.display.Javascript object>"
      ]
     },
     "metadata": {},
     "output_type": "display_data"
    },
    {
     "data": {
      "text/markdown": [
       "<span style=\"color:#33cc99\">Solution:</span> \n",
       "```python\n",
       "missing_price_reviews = reviews[reviews.price.isnull()]\n",
       "n_missing_prices = len(missing_price_reviews)\n",
       "# Cute alternative solution: if we sum a boolean series, True is treated as 1 and False as 0\n",
       "n_missing_prices = reviews.price.isnull().sum()\n",
       "# or equivalently:\n",
       "n_missing_prices = pd.isnull(reviews.price).sum()\n",
       "\n",
       "```"
      ],
      "text/plain": [
       "Solution: \n",
       "```python\n",
       "missing_price_reviews = reviews[reviews.price.isnull()]\n",
       "n_missing_prices = len(missing_price_reviews)\n",
       "# Cute alternative solution: if we sum a boolean series, True is treated as 1 and False as 0\n",
       "n_missing_prices = reviews.price.isnull().sum()\n",
       "# or equivalently:\n",
       "n_missing_prices = pd.isnull(reviews.price).sum()\n",
       "\n",
       "```"
      ]
     },
     "metadata": {},
     "output_type": "display_data"
    }
   ],
   "source": [
    "#q3.hint()\n",
    "q3.solution()"
   ]
  },
  {
   "cell_type": "markdown",
   "id": "de61d4e0",
   "metadata": {
    "papermill": {
     "duration": 0.00634,
     "end_time": "2022-06-23T19:43:08.025008",
     "exception": false,
     "start_time": "2022-06-23T19:43:08.018668",
     "status": "completed"
    },
    "tags": []
   },
   "source": [
    "## 4.\n",
    "What are the most common wine-producing regions? Create a Series counting the number of times each value occurs in the `region_1` field. This field is often missing data, so replace missing values with `Unknown`. Sort in descending order.  Your output should look something like this:\n",
    "\n",
    "```\n",
    "Unknown                    21247\n",
    "Napa Valley                 4480\n",
    "                           ...  \n",
    "Bardolino Superiore            1\n",
    "Primitivo del Tarantino        1\n",
    "Name: region_1, Length: 1230, dtype: int64\n",
    "```"
   ]
  },
  {
   "cell_type": "code",
   "execution_count": 8,
   "id": "98d6dd67",
   "metadata": {
    "execution": {
     "iopub.execute_input": "2022-06-23T19:43:08.039603Z",
     "iopub.status.busy": "2022-06-23T19:43:08.039241Z",
     "iopub.status.idle": "2022-06-23T19:43:08.109217Z",
     "shell.execute_reply": "2022-06-23T19:43:08.107898Z"
    },
    "papermill": {
     "duration": 0.08052,
     "end_time": "2022-06-23T19:43:08.111969",
     "exception": false,
     "start_time": "2022-06-23T19:43:08.031449",
     "status": "completed"
    },
    "tags": []
   },
   "outputs": [
    {
     "data": {
      "application/javascript": [
       "parent.postMessage({\"jupyterEvent\": \"custom.exercise_interaction\", \"data\": {\"outcomeType\": 1, \"valueTowardsCompletion\": 0.25, \"interactionType\": 1, \"questionType\": 2, \"questionId\": \"4_ReviewsPerRegion\", \"learnToolsVersion\": \"0.3.4\", \"failureMessage\": \"\", \"exceptionClass\": \"\", \"trace\": \"\"}}, \"*\")"
      ],
      "text/plain": [
       "<IPython.core.display.Javascript object>"
      ]
     },
     "metadata": {},
     "output_type": "display_data"
    },
    {
     "data": {
      "text/markdown": [
       "<span style=\"color:#33cc33\">Correct</span>"
      ],
      "text/plain": [
       "Correct"
      ]
     },
     "metadata": {},
     "output_type": "display_data"
    }
   ],
   "source": [
    "reviews_per_region = reviews.region_1.fillna('Unknown').value_counts().sort_values(ascending=False)\n",
    "\n",
    "# Check your answer\n",
    "q4.check()"
   ]
  },
  {
   "cell_type": "code",
   "execution_count": 9,
   "id": "5b20a32f",
   "metadata": {
    "execution": {
     "iopub.execute_input": "2022-06-23T19:43:08.127575Z",
     "iopub.status.busy": "2022-06-23T19:43:08.127206Z",
     "iopub.status.idle": "2022-06-23T19:43:08.136627Z",
     "shell.execute_reply": "2022-06-23T19:43:08.135418Z"
    },
    "papermill": {
     "duration": 0.020402,
     "end_time": "2022-06-23T19:43:08.139256",
     "exception": false,
     "start_time": "2022-06-23T19:43:08.118854",
     "status": "completed"
    },
    "tags": []
   },
   "outputs": [
    {
     "data": {
      "application/javascript": [
       "parent.postMessage({\"jupyterEvent\": \"custom.exercise_interaction\", \"data\": {\"interactionType\": 3, \"questionType\": 2, \"questionId\": \"4_ReviewsPerRegion\", \"learnToolsVersion\": \"0.3.4\", \"valueTowardsCompletion\": 0.0, \"failureMessage\": \"\", \"exceptionClass\": \"\", \"trace\": \"\", \"outcomeType\": 4}}, \"*\")"
      ],
      "text/plain": [
       "<IPython.core.display.Javascript object>"
      ]
     },
     "metadata": {},
     "output_type": "display_data"
    },
    {
     "data": {
      "text/markdown": [
       "<span style=\"color:#33cc99\">Solution:</span> \n",
       "```python\n",
       "reviews_per_region = reviews.region_1.fillna('Unknown').value_counts().sort_values(ascending=False)\n",
       "```"
      ],
      "text/plain": [
       "Solution: \n",
       "```python\n",
       "reviews_per_region = reviews.region_1.fillna('Unknown').value_counts().sort_values(ascending=False)\n",
       "```"
      ]
     },
     "metadata": {},
     "output_type": "display_data"
    }
   ],
   "source": [
    "#q4.hint()\n",
    "q4.solution()"
   ]
  },
  {
   "cell_type": "markdown",
   "id": "16a8f143",
   "metadata": {
    "papermill": {
     "duration": 0.006897,
     "end_time": "2022-06-23T19:43:08.153547",
     "exception": false,
     "start_time": "2022-06-23T19:43:08.146650",
     "status": "completed"
    },
    "tags": []
   },
   "source": [
    "# Keep going\n",
    "\n",
    "Move on to **[renaming and combining](https://www.kaggle.com/residentmario/renaming-and-combining)**."
   ]
  },
  {
   "cell_type": "markdown",
   "id": "804dcd6d",
   "metadata": {
    "papermill": {
     "duration": 0.006792,
     "end_time": "2022-06-23T19:43:08.167375",
     "exception": false,
     "start_time": "2022-06-23T19:43:08.160583",
     "status": "completed"
    },
    "tags": []
   },
   "source": [
    "---\n",
    "\n",
    "\n",
    "\n",
    "\n",
    "*Have questions or comments? Visit the [course discussion forum](https://www.kaggle.com/learn/pandas/discussion) to chat with other learners.*"
   ]
  }
 ],
 "metadata": {
  "kernelspec": {
   "display_name": "Python 3",
   "language": "python",
   "name": "python3"
  },
  "language_info": {
   "codemirror_mode": {
    "name": "ipython",
    "version": 3
   },
   "file_extension": ".py",
   "mimetype": "text/x-python",
   "name": "python",
   "nbconvert_exporter": "python",
   "pygments_lexer": "ipython3",
   "version": "3.7.12"
  },
  "papermill": {
   "default_parameters": {},
   "duration": 13.799746,
   "end_time": "2022-06-23T19:43:08.898494",
   "environment_variables": {},
   "exception": null,
   "input_path": "__notebook__.ipynb",
   "output_path": "__notebook__.ipynb",
   "parameters": {},
   "start_time": "2022-06-23T19:42:55.098748",
   "version": "2.3.4"
  }
 },
 "nbformat": 4,
 "nbformat_minor": 5
}
